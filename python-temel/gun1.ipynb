{
 "cells": [
  {
   "cell_type": "markdown",
   "id": "38152007-4fe9-4e41-8468-3ac979b5c034",
   "metadata": {},
   "source": [
    "## Gün 1 Python'a Giriş"
   ]
  },
  {
   "cell_type": "code",
   "execution_count": 5,
   "id": "28c7e52c-3612-4545-9d0c-d17014c02da3",
   "metadata": {},
   "outputs": [
    {
     "data": {
      "text/plain": [
       "float"
      ]
     },
     "execution_count": 5,
     "metadata": {},
     "output_type": "execute_result"
    }
   ],
   "source": [
    "type(2.5) #Veri tipini type ile öğrenebiliriz."
   ]
  },
  {
   "cell_type": "code",
   "execution_count": 6,
   "id": "a64964a3-c160-425c-92c5-6a23502f6198",
   "metadata": {},
   "outputs": [
    {
     "data": {
      "text/plain": [
       "2"
      ]
     },
     "execution_count": 6,
     "metadata": {},
     "output_type": "execute_result"
    }
   ],
   "source": [
    "int(2.9) "
   ]
  },
  {
   "cell_type": "code",
   "execution_count": 7,
   "id": "34f8bd8c-167e-49f8-a6d7-0b501b89ab37",
   "metadata": {},
   "outputs": [
    {
     "data": {
      "text/plain": [
       "False"
      ]
     },
     "execution_count": 7,
     "metadata": {},
     "output_type": "execute_result"
    }
   ],
   "source": [
    "2>3 # 2, 3'den büyük olmadığından false döner"
   ]
  },
  {
   "cell_type": "code",
   "execution_count": 8,
   "id": "6525ee6a-1920-446f-a000-079c22f7d909",
   "metadata": {},
   "outputs": [
    {
     "data": {
      "text/plain": [
       "True"
      ]
     },
     "execution_count": 8,
     "metadata": {},
     "output_type": "execute_result"
    }
   ],
   "source": [
    "2<3 # 2, 3'den küçük olduğundan True döner"
   ]
  },
  {
   "cell_type": "code",
   "execution_count": 9,
   "id": "cc084955-c410-46a9-aafe-144623cfb002",
   "metadata": {},
   "outputs": [
    {
     "data": {
      "text/plain": [
       "4.9"
      ]
     },
     "execution_count": 9,
     "metadata": {},
     "output_type": "execute_result"
    }
   ],
   "source": [
    "float(4.9)"
   ]
  },
  {
   "cell_type": "code",
   "execution_count": 10,
   "id": "afb7c796-5bf1-4057-aa28-c4bbed5fdacf",
   "metadata": {},
   "outputs": [
    {
     "name": "stdout",
     "output_type": "stream",
     "text": [
      "5\n"
     ]
    }
   ],
   "source": [
    "a = 5 # a'ya bir değer atatık bu değer 5\n",
    "print(a) # a'yı yazdırdık ve çıktısı atatığımız 5"
   ]
  }
 ],
 "metadata": {
  "kernelspec": {
   "display_name": "Python 3 (ipykernel)",
   "language": "python",
   "name": "python3"
  },
  "language_info": {
   "codemirror_mode": {
    "name": "ipython",
    "version": 3
   },
   "file_extension": ".py",
   "mimetype": "text/x-python",
   "name": "python",
   "nbconvert_exporter": "python",
   "pygments_lexer": "ipython3",
   "version": "3.11.1"
  }
 },
 "nbformat": 4,
 "nbformat_minor": 5
}
