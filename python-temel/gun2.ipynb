{
 "cells": [
  {
   "cell_type": "markdown",
   "id": "2d82e143-2929-4ade-9ea7-7bf97842bf70",
   "metadata": {
    "jp-MarkdownHeadingCollapsed": true,
    "tags": []
   },
   "source": [
    "## Stringler"
   ]
  },
  {
   "cell_type": "markdown",
   "id": "7ffcc5a1-4ab1-4fc7-86ee-05fd83ff685e",
   "metadata": {},
   "source": [
    "    String'ler Karakterlerden veya bunların kombinasyonlarından oluşabilirler.\n",
    "    Stringler immutable veri tipidir.\n",
    "    Immutable: Elemanlarının değerleri değiştirilemez.\n",
    "    Tırnak işaretlerinin yaptığı şey aslında: Bu tırnak işaretlerinin içinde verdiğim diziye karakterler dizisi olarak davran, öyle algıla demek."
   ]
  },
  {
   "cell_type": "code",
   "execution_count": 5,
   "id": "9a841868-f019-49fc-8791-df0b95063c9e",
   "metadata": {},
   "outputs": [
    {
     "data": {
      "text/plain": [
       "str"
      ]
     },
     "execution_count": 5,
     "metadata": {},
     "output_type": "execute_result"
    }
   ],
   "source": [
    "type(\"5+4\")"
   ]
  },
  {
   "cell_type": "code",
   "execution_count": 6,
   "id": "78e3c1cd-227f-4f25-9801-d5d443a614d8",
   "metadata": {},
   "outputs": [
    {
     "data": {
      "text/plain": [
       "'Bana \"Bugün ne yapıyorsun\" dedi'"
      ]
     },
     "execution_count": 6,
     "metadata": {},
     "output_type": "execute_result"
    }
   ],
   "source": [
    "\"Bana \\\"Bugün ne yapıyorsun\\\" dedi\""
   ]
  },
  {
   "cell_type": "code",
   "execution_count": 9,
   "id": "24a05b59-7e9c-4c49-9ba1-f070b8bea94c",
   "metadata": {},
   "outputs": [
    {
     "name": "stdout",
     "output_type": "stream",
     "text": [
      "Hey \n",
      "Naber?\n"
     ]
    }
   ],
   "source": [
    "print(\"Hey \\nNaber?\")"
   ]
  },
  {
   "cell_type": "code",
   "execution_count": 10,
   "id": "f57d8a3e-2d6e-41c6-b927-642fc24e2494",
   "metadata": {},
   "outputs": [
    {
     "ename": "SyntaxError",
     "evalue": "unterminated string literal (detected at line 1) (2002776260.py, line 1)",
     "output_type": "error",
     "traceback": [
      "\u001b[1;36m  Cell \u001b[1;32mIn[10], line 1\u001b[1;36m\u001b[0m\n\u001b[1;33m    print(\"hmm \\\")\u001b[0m\n\u001b[1;37m          ^\u001b[0m\n\u001b[1;31mSyntaxError\u001b[0m\u001b[1;31m:\u001b[0m unterminated string literal (detected at line 1)\n"
     ]
    }
   ],
   "source": [
    "print(\"hmm \\\")"
   ]
  },
  {
   "cell_type": "code",
   "execution_count": 11,
   "id": "aa630c00-fc16-4660-8c01-6fecbbd42d3e",
   "metadata": {},
   "outputs": [
    {
     "name": "stdout",
     "output_type": "stream",
     "text": [
      "hm \\\n"
     ]
    }
   ],
   "source": [
    "print(\"hm \\\\\")"
   ]
  },
  {
   "cell_type": "markdown",
   "id": "27e102e3-8ea0-402c-bb03-8d53ce0fcf90",
   "metadata": {
    "jp-MarkdownHeadingCollapsed": true,
    "tags": []
   },
   "source": [
    "## Stringler Üzerinde Operatörler\n"
   ]
  },
  {
   "cell_type": "code",
   "execution_count": 13,
   "id": "57289057-c9dc-48ac-ac41-abd6e5853085",
   "metadata": {},
   "outputs": [],
   "source": [
    "merhaba = \"Merhaba nasılsın bugün?\""
   ]
  },
  {
   "cell_type": "code",
   "execution_count": 14,
   "id": "c3986840-81de-4d92-bac6-92c50fcb62d3",
   "metadata": {},
   "outputs": [
    {
     "name": "stdout",
     "output_type": "stream",
     "text": [
      "Merhaba nasılsın bugün?\n"
     ]
    }
   ],
   "source": [
    "print(merhaba)"
   ]
  },
  {
   "cell_type": "code",
   "execution_count": 22,
   "id": "d5163214-3ccb-4ca9-9754-e4884a251c87",
   "metadata": {},
   "outputs": [],
   "source": [
    "a=\"5\";\n",
    "b=\"4\";\n",
    "c=\"Merhaba \";\n",
    "d=\"Nasılsın?\";"
   ]
  },
  {
   "cell_type": "code",
   "execution_count": 19,
   "id": "a4ea5cd5-924d-49c7-af3e-7ddb971f9be9",
   "metadata": {},
   "outputs": [
    {
     "name": "stdout",
     "output_type": "stream",
     "text": [
      "9\n"
     ]
    }
   ],
   "source": [
    "print(a+b)"
   ]
  },
  {
   "cell_type": "code",
   "execution_count": 23,
   "id": "0a259172-4d23-4ea9-b4d3-709037d413bf",
   "metadata": {},
   "outputs": [
    {
     "name": "stdout",
     "output_type": "stream",
     "text": [
      "Merhaba Nasılsın?\n"
     ]
    }
   ],
   "source": [
    "print(c+d)"
   ]
  },
  {
   "cell_type": "markdown",
   "id": "0a59b83f-b4dd-4b3c-a588-9d25d27d461e",
   "metadata": {
    "jp-MarkdownHeadingCollapsed": true,
    "tags": []
   },
   "source": [
    "## Stringlerde İndexleme"
   ]
  },
  {
   "cell_type": "code",
   "execution_count": 26,
   "id": "68424b91-d167-4de2-a06b-4298a67b375e",
   "metadata": {},
   "outputs": [],
   "source": [
    "isim=\"EMRE\""
   ]
  },
  {
   "cell_type": "code",
   "execution_count": 27,
   "id": "bc374fc8-ed70-4f3b-852c-6cc09ede09ad",
   "metadata": {},
   "outputs": [
    {
     "data": {
      "text/plain": [
       "'E'"
      ]
     },
     "execution_count": 27,
     "metadata": {},
     "output_type": "execute_result"
    }
   ],
   "source": [
    "isim[0]"
   ]
  },
  {
   "cell_type": "code",
   "execution_count": 29,
   "id": "65cf8bb0-d6fc-4a51-befc-931c187d96aa",
   "metadata": {},
   "outputs": [
    {
     "data": {
      "text/plain": [
       "'R'"
      ]
     },
     "execution_count": 29,
     "metadata": {},
     "output_type": "execute_result"
    }
   ],
   "source": [
    "isim[-2]"
   ]
  },
  {
   "cell_type": "markdown",
   "id": "1ca0c4f4-c4bd-41b5-89c9-108e2aa97e9a",
   "metadata": {},
   "source": [
    "İndexleme 0'dan başlar. Sondan eleman çağırmak istiyorsanız eksi (-) ile indexleme yapabiliriz."
   ]
  },
  {
   "cell_type": "code",
   "execution_count": 30,
   "id": "55892e28-7b0a-4cf6-b380-4d6356a653c2",
   "metadata": {},
   "outputs": [
    {
     "data": {
      "text/plain": [
       "'EMR'"
      ]
     },
     "execution_count": 30,
     "metadata": {},
     "output_type": "execute_result"
    }
   ],
   "source": [
    "isim[0:3]"
   ]
  },
  {
   "cell_type": "markdown",
   "id": "b28c8da0-4509-4552-ba2d-35073542fbe6",
   "metadata": {},
   "source": [
    "Belirli aralıklardaki elemanları çağırmak için iki nokta üs üste (:) kullanarak çağırabiliriz. \n"
   ]
  },
  {
   "cell_type": "markdown",
   "id": "b39658ab-bbe8-4815-9d72-9d43dcd59eff",
   "metadata": {},
   "source": [
    "Stringler immutable eleman olduğundan değiştirilemez!\n"
   ]
  },
  {
   "cell_type": "code",
   "execution_count": 33,
   "id": "ae27c9f3-a890-4ec8-9b8d-f178561be0ff",
   "metadata": {},
   "outputs": [
    {
     "data": {
      "text/plain": [
       "'MRE'"
      ]
     },
     "execution_count": 33,
     "metadata": {},
     "output_type": "execute_result"
    }
   ],
   "source": [
    "isim[1:]"
   ]
  },
  {
   "cell_type": "code",
   "execution_count": 36,
   "id": "c8d85998-c87d-48e4-b8ac-625cf86b5c17",
   "metadata": {},
   "outputs": [
    {
     "data": {
      "text/plain": [
       "'EMRE'"
      ]
     },
     "execution_count": 36,
     "metadata": {},
     "output_type": "execute_result"
    }
   ],
   "source": [
    "isim[:20]"
   ]
  },
  {
   "cell_type": "code",
   "execution_count": 38,
   "id": "81f6aaff-6e5e-4afe-8e94-ed47ff344cbd",
   "metadata": {},
   "outputs": [
    {
     "data": {
      "text/plain": [
       "'ER'"
      ]
     },
     "execution_count": 38,
     "metadata": {},
     "output_type": "execute_result"
    }
   ],
   "source": [
    "isim[0:3:2]"
   ]
  },
  {
   "cell_type": "markdown",
   "id": "124d1232-0e8c-408f-b977-6822aee65d8c",
   "metadata": {},
   "source": [
    "Sonda 2 yazdığımızdan dolayı 2'şer atlayarak yazdırıyor.\n"
   ]
  },
  {
   "cell_type": "code",
   "execution_count": 42,
   "id": "fa706dd8-eeb4-4903-bb48-ebda8d327d03",
   "metadata": {},
   "outputs": [
    {
     "data": {
      "text/plain": [
       "'ERME'"
      ]
     },
     "execution_count": 42,
     "metadata": {},
     "output_type": "execute_result"
    }
   ],
   "source": [
    "isim[::-1]"
   ]
  },
  {
   "cell_type": "markdown",
   "id": "20e9b93a-7b83-4752-8e4f-6980360a3e48",
   "metadata": {
    "jp-MarkdownHeadingCollapsed": true,
    "tags": []
   },
   "source": [
    "## Stringlerde Casting"
   ]
  },
  {
   "cell_type": "code",
   "execution_count": 48,
   "id": "2356ccbe-3be8-49f6-8f10-c5520342f1a9",
   "metadata": {},
   "outputs": [],
   "source": [
    "a = \"5\";\n",
    "b = \" Merhaba 7\";\n",
    "c=\"8.1\""
   ]
  },
  {
   "cell_type": "code",
   "execution_count": 45,
   "id": "96ef650f-36d0-4337-b3d6-04a1020f9d64",
   "metadata": {},
   "outputs": [
    {
     "data": {
      "text/plain": [
       "5.0"
      ]
     },
     "execution_count": 45,
     "metadata": {},
     "output_type": "execute_result"
    }
   ],
   "source": [
    "float(a)"
   ]
  },
  {
   "cell_type": "code",
   "execution_count": 46,
   "id": "d70da77a-2d8c-4465-9fac-11e4b57fe7c0",
   "metadata": {},
   "outputs": [
    {
     "ename": "ValueError",
     "evalue": "could not convert string to float: ' Merhaba 7'",
     "output_type": "error",
     "traceback": [
      "\u001b[1;31m---------------------------------------------------------------------------\u001b[0m",
      "\u001b[1;31mValueError\u001b[0m                                Traceback (most recent call last)",
      "Cell \u001b[1;32mIn[46], line 1\u001b[0m\n\u001b[1;32m----> 1\u001b[0m \u001b[38;5;28;43mfloat\u001b[39;49m\u001b[43m(\u001b[49m\u001b[43mb\u001b[49m\u001b[43m)\u001b[49m\n",
      "\u001b[1;31mValueError\u001b[0m: could not convert string to float: ' Merhaba 7'"
     ]
    }
   ],
   "source": [
    "float(b)"
   ]
  },
  {
   "cell_type": "markdown",
   "id": "bf1040cc-0c58-4ac7-9083-7f556f99c1f2",
   "metadata": {},
   "source": [
    "Stringin içinde değiştirilemez bir karakter olduğunda hata alırız. Sadece bir sayı varsa dönüştürme işlemi olur."
   ]
  },
  {
   "cell_type": "code",
   "execution_count": 49,
   "id": "f7478314-d45f-4610-86f2-ad9051da5ce2",
   "metadata": {},
   "outputs": [
    {
     "data": {
      "text/plain": [
       "8"
      ]
     },
     "execution_count": 49,
     "metadata": {},
     "output_type": "execute_result"
    }
   ],
   "source": [
    "int(float(c))"
   ]
  },
  {
   "cell_type": "code",
   "execution_count": 51,
   "id": "3186c4cc-1f2b-4758-ab63-60b76a3f2fe9",
   "metadata": {},
   "outputs": [
    {
     "data": {
      "text/plain": [
       "5"
      ]
     },
     "execution_count": 51,
     "metadata": {},
     "output_type": "execute_result"
    }
   ],
   "source": [
    "int(a)"
   ]
  },
  {
   "cell_type": "code",
   "execution_count": 53,
   "id": "8e417362-f2a0-4127-949b-0a824556a12f",
   "metadata": {},
   "outputs": [
    {
     "data": {
      "text/plain": [
       "5.0"
      ]
     },
     "execution_count": 53,
     "metadata": {},
     "output_type": "execute_result"
    }
   ],
   "source": [
    "float(int(a))"
   ]
  },
  {
   "cell_type": "code",
   "execution_count": 54,
   "id": "7f428344-9926-4525-9ced-9f9b18302424",
   "metadata": {},
   "outputs": [
    {
     "data": {
      "text/plain": [
       "5.0"
      ]
     },
     "execution_count": 54,
     "metadata": {},
     "output_type": "execute_result"
    }
   ],
   "source": [
    "float(a)"
   ]
  },
  {
   "cell_type": "markdown",
   "id": "a8768e60-0ffb-419b-9488-de18a9d1be48",
   "metadata": {
    "jp-MarkdownHeadingCollapsed": true,
    "tags": []
   },
   "source": [
    "## İnput"
   ]
  },
  {
   "cell_type": "code",
   "execution_count": 55,
   "id": "4eb960e1-459a-408b-a1b0-7233e3ae660e",
   "metadata": {},
   "outputs": [
    {
     "name": "stdin",
     "output_type": "stream",
     "text": [
      "sayı girin:  5\n"
     ]
    }
   ],
   "source": [
    "sayi = input(\"sayı girin: \")"
   ]
  },
  {
   "cell_type": "code",
   "execution_count": 56,
   "id": "a51d9850-dfc0-4f74-ba57-25f39b86392e",
   "metadata": {},
   "outputs": [
    {
     "ename": "TypeError",
     "evalue": "can only concatenate str (not \"int\") to str",
     "output_type": "error",
     "traceback": [
      "\u001b[1;31m---------------------------------------------------------------------------\u001b[0m",
      "\u001b[1;31mTypeError\u001b[0m                                 Traceback (most recent call last)",
      "Cell \u001b[1;32mIn[56], line 1\u001b[0m\n\u001b[1;32m----> 1\u001b[0m \u001b[43msayi\u001b[49m\u001b[38;5;241;43m+\u001b[39;49m\u001b[38;5;241;43m10\u001b[39;49m\n",
      "\u001b[1;31mTypeError\u001b[0m: can only concatenate str (not \"int\") to str"
     ]
    }
   ],
   "source": [
    "sayi+10"
   ]
  },
  {
   "cell_type": "markdown",
   "id": "5dc2ff54-de8d-4667-8c19-676adcd56040",
   "metadata": {},
   "source": [
    "İnput sonucu gelen değer STRING olduğu için hata alıyoruz.\n"
   ]
  },
  {
   "cell_type": "code",
   "execution_count": 57,
   "id": "31301961-494c-43c1-85d4-bbb044c317fa",
   "metadata": {},
   "outputs": [
    {
     "data": {
      "text/plain": [
       "str"
      ]
     },
     "execution_count": 57,
     "metadata": {},
     "output_type": "execute_result"
    }
   ],
   "source": [
    "type(sayi)"
   ]
  },
  {
   "cell_type": "code",
   "execution_count": 58,
   "id": "3c454dac-19cc-49ac-a77b-fc8bbcce69ac",
   "metadata": {},
   "outputs": [
    {
     "data": {
      "text/plain": [
       "15"
      ]
     },
     "execution_count": 58,
     "metadata": {},
     "output_type": "execute_result"
    }
   ],
   "source": [
    "int(sayi)+10"
   ]
  },
  {
   "cell_type": "code",
   "execution_count": 60,
   "id": "18ddfc61-52a6-48ec-a7e6-7bd063c3682f",
   "metadata": {},
   "outputs": [
    {
     "name": "stdin",
     "output_type": "stream",
     "text": [
      "Sayi giriniz:  5\n"
     ]
    }
   ],
   "source": [
    "intsayi= int(input(\"Sayi giriniz: \"))"
   ]
  },
  {
   "cell_type": "code",
   "execution_count": 61,
   "id": "d8009ab8-5660-4c39-a01a-3d2a65f6099c",
   "metadata": {},
   "outputs": [
    {
     "data": {
      "text/plain": [
       "int"
      ]
     },
     "execution_count": 61,
     "metadata": {},
     "output_type": "execute_result"
    }
   ],
   "source": [
    "type(intsayi)"
   ]
  },
  {
   "cell_type": "markdown",
   "id": "f71f46d6-0b8c-40c7-b4a6-d18428339526",
   "metadata": {},
   "source": [
    "Burada input'u alırken int olarak kaydettik."
   ]
  },
  {
   "cell_type": "code",
   "execution_count": 62,
   "id": "df2b0000-4657-4a42-a552-dc8ce3cde510",
   "metadata": {},
   "outputs": [
    {
     "name": "stdin",
     "output_type": "stream",
     "text": [
      "Mesajınızı giriniz:  Merhaba\n"
     ]
    }
   ],
   "source": [
    "mesaj=input(\"Mesajınızı giriniz: \")"
   ]
  },
  {
   "cell_type": "code",
   "execution_count": 63,
   "id": "9c50fc9d-845c-41ae-8bd3-6ce14deb2921",
   "metadata": {},
   "outputs": [
    {
     "name": "stdin",
     "output_type": "stream",
     "text": [
      "İsim giriniz:  Emre\n"
     ]
    }
   ],
   "source": [
    "isim=input(\"İsim giriniz: \")"
   ]
  },
  {
   "cell_type": "code",
   "execution_count": 64,
   "id": "3ee15af4-ddda-4199-bfcf-940da08ecdd7",
   "metadata": {},
   "outputs": [
    {
     "name": "stdout",
     "output_type": "stream",
     "text": [
      "Merhaba Emre\n"
     ]
    }
   ],
   "source": [
    "print(mesaj+\" \" + isim)"
   ]
  },
  {
   "cell_type": "markdown",
   "id": "013b6aa1-2889-4e71-b2ab-86aaa3513a35",
   "metadata": {
    "jp-MarkdownHeadingCollapsed": true,
    "tags": []
   },
   "source": [
    "## Yorum / Comments"
   ]
  },
  {
   "cell_type": "code",
   "execution_count": 70,
   "id": "84c87a02-d21f-4c30-ac32-4ec11396f675",
   "metadata": {},
   "outputs": [
    {
     "name": "stdout",
     "output_type": "stream",
     "text": [
      "9\n"
     ]
    }
   ],
   "source": [
    "\"\"\"\n",
    "a ve b'ye sayı atayıp, toplam kısmında toplayıp ekrana yazdırmışım.\n",
    "\"\"\"\n",
    "\n",
    "a=5; # a'ya 5 atamışım\n",
    "b=4; # b'ye 4 atamışım\n",
    "toplam=5+4;\n",
    "print(toplam)"
   ]
  },
  {
   "cell_type": "code",
   "execution_count": null,
   "id": "1b5ac6e3-626e-4f82-9d7d-82614c671cc5",
   "metadata": {},
   "outputs": [],
   "source": []
  }
 ],
 "metadata": {
  "kernelspec": {
   "display_name": "Python 3 (ipykernel)",
   "language": "python",
   "name": "python3"
  },
  "language_info": {
   "codemirror_mode": {
    "name": "ipython",
    "version": 3
   },
   "file_extension": ".py",
   "mimetype": "text/x-python",
   "name": "python",
   "nbconvert_exporter": "python",
   "pygments_lexer": "ipython3",
   "version": "3.11.1"
  }
 },
 "nbformat": 4,
 "nbformat_minor": 5
}
