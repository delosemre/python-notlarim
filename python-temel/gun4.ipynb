{
 "cells": [
  {
   "cell_type": "markdown",
   "id": "4ea57f99-ca4b-4f7e-a949-404593f1dfb2",
   "metadata": {
    "jp-MarkdownHeadingCollapsed": true,
    "tags": []
   },
   "source": [
    "## If-else-elif"
   ]
  },
  {
   "cell_type": "markdown",
   "id": "ad31e36c-1033-4a6d-9ccb-5ea163f49ddf",
   "metadata": {},
   "source": [
    "if-elif sorgularında biri doğru çıkarda aşağısında kalan hiçbir sorguya bakmadan doğru çıkanın içerisindeki kodları çalıştırıp sonrasında direkt if-elif-else bloğundan çıkar ve genel kod akışına devam eder."
   ]
  },
  {
   "cell_type": "code",
   "execution_count": 3,
   "id": "a3f891eb-568e-434b-aaeb-47a68708c1a1",
   "metadata": {},
   "outputs": [
    {
     "name": "stdin",
     "output_type": "stream",
     "text": [
      "0 ile 100 arasında bir sayı girin:  90\n"
     ]
    },
    {
     "name": "stdout",
     "output_type": "stream",
     "text": [
      "Sayı 90 ile 100 arasında\n"
     ]
    }
   ],
   "source": [
    "x = int(input(\"0 ile 100 arasında bir sayı girin: \")) # Kullanıcıya bir sayı girdirip, bu sayıyı x'e atatık.\n",
    "\n",
    "if x == 100: # eğer sayı 100'e eşit ise yani 100 ise 'Sayı 100' yazdırıyoruz.\n",
    "    print(\"Sayı 100\")\n",
    "\n",
    "elif x >= 90: # eğer sayı 90'dan büyük ise aşağıdaki sonucu yazdırır.\n",
    "    print(\"Sayı 90 ile 100 arasında\")\n",
    "\n",
    "elif x >= 80: # eğer sayı 80'den büyük ise aşağıdaki sonucu yazdırır. 90 ve üstü bir sayı girersek yukarıdaki kod blogundan çıkamaz.\n",
    "    print(\"Sayı 80 ile 90 arasında\")\n",
    "    \n",
    "else: # sayı 80'den küçük ise aşağıdaki çıktıyı yazdırır.\n",
    "    print(\"Sayı 80'den küçük\")"
   ]
  },
  {
   "cell_type": "markdown",
   "id": "3ce165c1-cfbe-470d-b000-367771dca03d",
   "metadata": {
    "jp-MarkdownHeadingCollapsed": true,
    "tags": []
   },
   "source": [
    "## Ternary Conditionals"
   ]
  },
  {
   "cell_type": "markdown",
   "id": "b9ed08a4-afe9-46ba-a029-7bc153a86588",
   "metadata": {},
   "source": [
    " if-else mantığını tek satırda kullanıp döndürülecek, sonucu ona göre belirlememizi sağlayacak.\n"
   ]
  },
  {
   "cell_type": "code",
   "execution_count": 4,
   "id": "7e1ce444-65ef-490b-908e-4cef6e0b50ea",
   "metadata": {},
   "outputs": [
    {
     "name": "stdin",
     "output_type": "stream",
     "text": [
      "x in değeri 2 olsun mu? y/n y\n"
     ]
    },
    {
     "name": "stdout",
     "output_type": "stream",
     "text": [
      "2\n"
     ]
    }
   ],
   "source": [
    "# cevap olarak \"y\" (yes->evet) veya \"n\"(no->hayır) vereceğiz\n",
    "cevap = input(\"x in değeri 2 olsun mu? y/n\")\n",
    "\n",
    "if cevap == \"y\": # cevap == \"y\" testimiz oluyor\n",
    "    x = 2\n",
    "else:\n",
    "    x = 0\n",
    "\n",
    "print(x)"
   ]
  },
  {
   "cell_type": "markdown",
   "id": "af67660f-a6b7-4978-bee1-d1cd62c7abb5",
   "metadata": {
    "tags": []
   },
   "source": [
    "## Döngüler"
   ]
  },
  {
   "cell_type": "markdown",
   "id": "adce5591-4cd1-4c32-89c7-7f7c8b7c773d",
   "metadata": {
    "jp-MarkdownHeadingCollapsed": true,
    "tags": []
   },
   "source": [
    "### while"
   ]
  },
  {
   "cell_type": "code",
   "execution_count": 8,
   "id": "e835837c-b6d8-42cf-b20d-9923cbd80ea0",
   "metadata": {},
   "outputs": [
    {
     "name": "stdin",
     "output_type": "stream",
     "text": [
      "Bir sayı girin:  -5\n"
     ]
    },
    {
     "name": "stdout",
     "output_type": "stream",
     "text": [
      "sayı negatif, pozitif sayı giriniz.\n"
     ]
    },
    {
     "name": "stdin",
     "output_type": "stream",
     "text": [
      "Bir sayı girin:  -1\n"
     ]
    },
    {
     "name": "stdout",
     "output_type": "stream",
     "text": [
      "sayı negatif, pozitif sayı giriniz.\n"
     ]
    },
    {
     "name": "stdin",
     "output_type": "stream",
     "text": [
      "Bir sayı girin:  1\n"
     ]
    },
    {
     "name": "stdout",
     "output_type": "stream",
     "text": [
      "sayınız pozitif ve 1\n"
     ]
    }
   ],
   "source": [
    "x=int(input(\"Bir sayı girin: \"))\n",
    "\n",
    "while x<0:\n",
    "    print(\"sayı negatif, pozitif sayı giriniz.\")\n",
    "    x=int(input(\"Bir sayı girin: \"))\n",
    "\n",
    "print(\"sayınız pozitif ve\", x)"
   ]
  },
  {
   "cell_type": "code",
   "execution_count": 10,
   "id": "9aa6c326-9e0c-484e-a6e6-5db99a4e804d",
   "metadata": {},
   "outputs": [
    {
     "name": "stdout",
     "output_type": "stream",
     "text": [
      "0\n",
      "1\n"
     ]
    }
   ],
   "source": [
    "x=0;\n",
    "\n",
    "while x<2:\n",
    "    print(x)\n",
    "    x = x+1\n",
    "    "
   ]
  },
  {
   "cell_type": "code",
   "execution_count": 13,
   "id": "5ac4ee54-d313-4dc8-948d-0336ed448fc0",
   "metadata": {},
   "outputs": [
    {
     "name": "stdout",
     "output_type": "stream",
     "text": [
      "5050\n"
     ]
    }
   ],
   "source": [
    "toplam=0;\n",
    "x=0;\n",
    "while x<=100:\n",
    "    toplam +=x\n",
    "    x+=1\n",
    "print(toplam)\n",
    "    "
   ]
  },
  {
   "cell_type": "markdown",
   "id": "84c0a6ab-6658-4eeb-b09a-e56da49369b9",
   "metadata": {
    "jp-MarkdownHeadingCollapsed": true,
    "tags": []
   },
   "source": [
    "### for"
   ]
  },
  {
   "cell_type": "markdown",
   "id": "fd2008e4-1168-4ca6-880d-fc13cb0ff03f",
   "metadata": {},
   "source": [
    "    for döngüsü in'den sonra yazdığımız yapının bütün değerleri üzerinde dolanıp, eleman sayısı kadar içindeki kodu çalıştıracak. x in <obje> yapısı ile tanımlandığında, x döngünün her adımında in den sonra tanımlanan yapının elemanlarının değerlerini alacak.\n",
    "\n",
    "\n",
    "for <değişken> in <obje>\n",
    "\n",
    "\n",
    "    for döngüsünün en başında <değişken>, <obje>'nin ilk elemanının değerini alıyor. İçindeki kod 1 kere çalışıp bittikten sonra ikinci kere çalıştırıyor ve <değişken>, <obje>'nin ikinci elemanının değerini alıyor. Bu <obje>'nin tüm elemanları bitene kadar devam ediyor"
   ]
  },
  {
   "cell_type": "code",
   "execution_count": 14,
   "id": "c6d84974-c2ab-4d04-b3dc-22b579b63ddb",
   "metadata": {},
   "outputs": [
    {
     "name": "stdout",
     "output_type": "stream",
     "text": [
      "h\n",
      "e\n",
      "y\n"
     ]
    }
   ],
   "source": [
    "for c in \"hey\":\n",
    "    print(c)"
   ]
  },
  {
   "cell_type": "code",
   "execution_count": 16,
   "id": "272d4011-1c28-435b-8f94-c530e1c6c848",
   "metadata": {},
   "outputs": [
    {
     "name": "stdout",
     "output_type": "stream",
     "text": [
      "5050\n"
     ]
    }
   ],
   "source": [
    "toplam=0\n",
    "\n",
    "for x in range(101):\n",
    "    toplam+=x\n",
    "print(toplam)"
   ]
  },
  {
   "cell_type": "code",
   "execution_count": 17,
   "id": "e3c23114-2d9e-4f53-b279-cc5932165ee3",
   "metadata": {},
   "outputs": [
    {
     "name": "stdout",
     "output_type": "stream",
     "text": [
      "0\n",
      "1\n",
      "2\n",
      "3\n",
      "4\n"
     ]
    }
   ],
   "source": [
    "for x in range(5):\n",
    "    print(x)"
   ]
  },
  {
   "cell_type": "code",
   "execution_count": 18,
   "id": "c04fe48e-08df-4912-b851-62e204a696ce",
   "metadata": {},
   "outputs": [
    {
     "name": "stdout",
     "output_type": "stream",
     "text": [
      "3125\n"
     ]
    }
   ],
   "source": [
    "toplam = 1\n",
    "for _ in range(5):\n",
    "    toplam *=5\n",
    "    \n",
    "print(toplam)"
   ]
  },
  {
   "cell_type": "markdown",
   "id": "7a086f20-2ad8-4d26-8524-e07ab5b5441d",
   "metadata": {
    "jp-MarkdownHeadingCollapsed": true,
    "tags": []
   },
   "source": [
    "### for vs while"
   ]
  },
  {
   "cell_type": "markdown",
   "id": "f45bf25b-fbd1-4eb1-af1d-8fe84b64b442",
   "metadata": {},
   "source": [
    "    while yapısında kaç kere iterasyon yapacağımızı bilmiyoruz, for'da eleman sayısı kadar iterasyon var. (break veya continue ile bölünmezse)\n",
    "\n",
    "\n",
    "    Aslında for döngüsünü while döngüsünü kullanarak yazabiliriz, ama while döngüsünü for kullanarak yazamayız, çünkü for'da test mekanizması yok."
   ]
  },
  {
   "cell_type": "code",
   "execution_count": 21,
   "id": "61bda765-1475-47f6-a012-35dfc4b2b0e9",
   "metadata": {},
   "outputs": [
    {
     "name": "stdout",
     "output_type": "stream",
     "text": [
      "h\n",
      "e\n",
      "y\n"
     ]
    }
   ],
   "source": [
    "# while\n",
    "s = \"hey\"\n",
    "n = len(s)\n",
    "index = 0\n",
    "\n",
    "while index < n:\n",
    "        print(s[index])\n",
    "        index += 1"
   ]
  },
  {
   "cell_type": "code",
   "execution_count": 22,
   "id": "94e3caeb-24c5-4c05-be78-db4b1fdf1341",
   "metadata": {},
   "outputs": [
    {
     "name": "stdout",
     "output_type": "stream",
     "text": [
      "h\n",
      "e\n",
      "y\n"
     ]
    }
   ],
   "source": [
    "# for\n",
    "s = \"hey\"\n",
    "for c in s:\n",
    "    print(c)"
   ]
  },
  {
   "cell_type": "markdown",
   "id": "3083e3dd-9a5d-48c1-bbb6-b5f3eb722e37",
   "metadata": {},
   "source": [
    "### Continue-Break"
   ]
  },
  {
   "cell_type": "code",
   "execution_count": 23,
   "id": "f216c20b-e71a-4718-8053-c6b9927ed39d",
   "metadata": {},
   "outputs": [
    {
     "name": "stdout",
     "output_type": "stream",
     "text": [
      "0\n",
      "1\n",
      "2\n"
     ]
    }
   ],
   "source": [
    "for i in range(10):\n",
    "    if i == 3:\n",
    "        break\n",
    "    print(i)"
   ]
  },
  {
   "cell_type": "markdown",
   "id": "796ae72f-8228-471c-bcbf-9407a95d53d1",
   "metadata": {},
   "source": [
    "    Belki bir şart sağlandığı zaman döngüden aniden çıkmak istersek, bunu break ile sağlıyoruz.\n",
    "\n",
    "\n",
    "    break komutunu gördüğümüz yerde döngüden çıkıyoruz."
   ]
  },
  {
   "cell_type": "code",
   "execution_count": 24,
   "id": "e8b55d3b-d7dd-4e41-8a0d-1194c4225a26",
   "metadata": {},
   "outputs": [
    {
     "name": "stdout",
     "output_type": "stream",
     "text": [
      "0\n",
      "1\n",
      "2\n",
      "4\n",
      "5\n",
      "6\n",
      "7\n",
      "8\n",
      "9\n"
     ]
    }
   ],
   "source": [
    "for i in range(10):\n",
    "    \n",
    "    if i == 3:\n",
    "        continue\n",
    "    print(i)"
   ]
  },
  {
   "cell_type": "markdown",
   "id": "7eddb473-dd34-4a38-bc93-df46ce4a2e7b",
   "metadata": {},
   "source": [
    "    Bazen döngülerde bir şart sağlandığında bir sonraki iterasyondan devam etmek isteyebilirim. Bunu continue ile sağlayacağız.\n",
    "\n",
    "\n",
    "    continue komutu ile karşılaşıldığı zaman, döngünün bir sonraki iterasyonuna geçilir."
   ]
  }
 ],
 "metadata": {
  "kernelspec": {
   "display_name": "Python 3 (ipykernel)",
   "language": "python",
   "name": "python3"
  },
  "language_info": {
   "codemirror_mode": {
    "name": "ipython",
    "version": 3
   },
   "file_extension": ".py",
   "mimetype": "text/x-python",
   "name": "python",
   "nbconvert_exporter": "python",
   "pygments_lexer": "ipython3",
   "version": "3.11.1"
  }
 },
 "nbformat": 4,
 "nbformat_minor": 5
}
